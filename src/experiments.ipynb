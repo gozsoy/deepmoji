{
 "cells": [
  {
   "cell_type": "code",
   "execution_count": 1,
   "metadata": {},
   "outputs": [],
   "source": [
    "import spacy\n",
    "import pandas as pd\n",
    "import numpy as np\n",
    "import tensorflow as tf\n",
    "\n",
    "from model import DeepmojiNet\n",
    "from main import prepare_embeddings\n",
    "\n",
    "tf.config.set_visible_devices([], 'GPU')\n",
    "nlp = spacy.load('en_core_web_md')"
   ]
  },
  {
   "cell_type": "code",
   "execution_count": 2,
   "metadata": {},
   "outputs": [],
   "source": [
    "data = pd.read_pickle('../data/kaggle-insults/raw.pickle')\n",
    "df = pd.DataFrame.from_dict({'info':data['info'],'texts':data['texts']})"
   ]
  },
  {
   "cell_type": "code",
   "execution_count": 3,
   "metadata": {},
   "outputs": [],
   "source": [
    "df['split'] = -1\n",
    "df.loc[data['train_ind'],'split'] = 0\n",
    "df.loc[data['val_ind'],'split'] = 1\n",
    "df.loc[data['test_ind'],'split'] = 2"
   ]
  },
  {
   "cell_type": "code",
   "execution_count": 4,
   "metadata": {},
   "outputs": [],
   "source": [
    "# working ot toy example\n",
    "df = df.sample(4)"
   ]
  },
  {
   "cell_type": "code",
   "execution_count": 5,
   "metadata": {},
   "outputs": [
    {
     "name": "stderr",
     "output_type": "stream",
     "text": [
      "2022-03-27 00:37:55.545939: I tensorflow/core/platform/cpu_feature_guard.cc:151] This TensorFlow binary is optimized with oneAPI Deep Neural Network Library (oneDNN) to use the following CPU instructions in performance-critical operations:  SSE4.2 AVX AVX2 FMA\n",
      "To enable them in other operations, rebuild TensorFlow with the appropriate compiler flags.\n"
     ]
    }
   ],
   "source": [
    "#TODO:\n",
    "# consider applying deepmoji paper filterings\n",
    "# try different preprocessing schemes: \n",
    "# lowercase, spell correct, lemmatization, stemmatization\n",
    "# remove numerics, stop words, punctiations\n",
    "# gensim simple_preprocess()\n",
    "\n",
    "def custom_preprocess(row):\n",
    "    return [t.text.lower() for t in nlp(row)]\n",
    "\n",
    "\n",
    "df['cleaned'] = df['texts'].apply(lambda row: custom_preprocess(row))\n",
    "pd.to_pickle(df,'../data/kaggle-insults/cleaned.pickle')\n",
    "cleaned_texts = tf.ragged.constant(df.cleaned)"
   ]
  },
  {
   "cell_type": "code",
   "execution_count": 6,
   "metadata": {},
   "outputs": [
    {
     "data": {
      "text/html": [
       "<div>\n",
       "<style scoped>\n",
       "    .dataframe tbody tr th:only-of-type {\n",
       "        vertical-align: middle;\n",
       "    }\n",
       "\n",
       "    .dataframe tbody tr th {\n",
       "        vertical-align: top;\n",
       "    }\n",
       "\n",
       "    .dataframe thead th {\n",
       "        text-align: right;\n",
       "    }\n",
       "</style>\n",
       "<table border=\"1\" class=\"dataframe\">\n",
       "  <thead>\n",
       "    <tr style=\"text-align: right;\">\n",
       "      <th></th>\n",
       "      <th>info</th>\n",
       "      <th>texts</th>\n",
       "      <th>split</th>\n",
       "      <th>cleaned</th>\n",
       "    </tr>\n",
       "  </thead>\n",
       "  <tbody>\n",
       "    <tr>\n",
       "      <th>3895</th>\n",
       "      <td>{'label': 0}</td>\n",
       "      <td>thank you j .. you are so kind .. enjoy your w...</td>\n",
       "      <td>0</td>\n",
       "      <td>[thank, you, j, .., you, are, so, kind, .., en...</td>\n",
       "    </tr>\n",
       "    <tr>\n",
       "      <th>2363</th>\n",
       "      <td>{'label': 0}</td>\n",
       "      <td>where are you going with this ?</td>\n",
       "      <td>0</td>\n",
       "      <td>[where, are, you, going, with, this, ?]</td>\n",
       "    </tr>\n",
       "    <tr>\n",
       "      <th>1051</th>\n",
       "      <td>{'label': 0}</td>\n",
       "      <td>votto was in our farm before krusty ever came ...</td>\n",
       "      <td>0</td>\n",
       "      <td>[votto, was, in, our, farm, before, krusty, ev...</td>\n",
       "    </tr>\n",
       "    <tr>\n",
       "      <th>2225</th>\n",
       "      <td>{'label': 1}</td>\n",
       "      <td>it was his idiot parents , idiot .</td>\n",
       "      <td>0</td>\n",
       "      <td>[it, was, his, idiot, parents, ,, idiot, .]</td>\n",
       "    </tr>\n",
       "  </tbody>\n",
       "</table>\n",
       "</div>"
      ],
      "text/plain": [
       "              info                                              texts  split  \\\n",
       "3895  {'label': 0}  thank you j .. you are so kind .. enjoy your w...      0   \n",
       "2363  {'label': 0}                    where are you going with this ?      0   \n",
       "1051  {'label': 0}  votto was in our farm before krusty ever came ...      0   \n",
       "2225  {'label': 1}                 it was his idiot parents , idiot .      0   \n",
       "\n",
       "                                                cleaned  \n",
       "3895  [thank, you, j, .., you, are, so, kind, .., en...  \n",
       "2363            [where, are, you, going, with, this, ?]  \n",
       "1051  [votto, was, in, our, farm, before, krusty, ev...  \n",
       "2225        [it, was, his, idiot, parents, ,, idiot, .]  "
      ]
     },
     "execution_count": 6,
     "metadata": {},
     "output_type": "execute_result"
    }
   ],
   "source": [
    "df"
   ]
  },
  {
   "cell_type": "code",
   "execution_count": null,
   "metadata": {},
   "outputs": [],
   "source": []
  },
  {
   "cell_type": "code",
   "execution_count": 7,
   "metadata": {},
   "outputs": [],
   "source": [
    "lookup_layer,embedding_layer,info = prepare_embeddings(cfg=None)"
   ]
  },
  {
   "cell_type": "code",
   "execution_count": 8,
   "metadata": {},
   "outputs": [
    {
     "data": {
      "text/plain": [
       "TensorShape([8, 300])"
      ]
     },
     "execution_count": 8,
     "metadata": {},
     "output_type": "execute_result"
    }
   ],
   "source": [
    "embedding_layer(lookup_layer(cleaned_texts[3])).shape"
   ]
  },
  {
   "cell_type": "code",
   "execution_count": 9,
   "metadata": {},
   "outputs": [],
   "source": [
    "model = DeepmojiNet(lookup_layer,embedding_layer,2)\n",
    "temp_x = cleaned_texts[3]\n",
    "temp_x = tf.expand_dims(temp_x,0)"
   ]
  },
  {
   "cell_type": "code",
   "execution_count": 10,
   "metadata": {},
   "outputs": [],
   "source": [
    "output = model(temp_x)"
   ]
  },
  {
   "cell_type": "code",
   "execution_count": 11,
   "metadata": {},
   "outputs": [
    {
     "data": {
      "text/plain": [
       "TensorShape([1, 2])"
      ]
     },
     "execution_count": 11,
     "metadata": {},
     "output_type": "execute_result"
    }
   ],
   "source": [
    "output.shape"
   ]
  }
 ],
 "metadata": {
  "interpreter": {
   "hash": "6437ff6c85c757ceba5db2a6998c4f1669d0f62cfc0e179dab4e1fccc2692370"
  },
  "kernelspec": {
   "display_name": "Python 3.8.8 ('tf_gpu')",
   "language": "python",
   "name": "python3"
  },
  "language_info": {
   "codemirror_mode": {
    "name": "ipython",
    "version": 3
   },
   "file_extension": ".py",
   "mimetype": "text/x-python",
   "name": "python",
   "nbconvert_exporter": "python",
   "pygments_lexer": "ipython3",
   "version": "3.8.8"
  },
  "orig_nbformat": 4
 },
 "nbformat": 4,
 "nbformat_minor": 2
}
